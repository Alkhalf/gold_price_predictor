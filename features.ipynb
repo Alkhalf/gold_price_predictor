{
 "cells": [
  {
   "cell_type": "code",
   "execution_count": 19,
   "metadata": {},
   "outputs": [],
   "source": [
    "from binance.client import Client\n",
    "import pandas as pd\n",
    "import requests\n",
    "from datetime import datetime, timedelta\n",
    "import datetime\n",
    "import requests\n",
    "import pandas as pd\n",
    "import hopsworks\n",
    "import datetime\n",
    "import os\n",
    "import warnings\n",
    "warnings.filterwarnings(\"ignore\")"
   ]
  },
  {
   "cell_type": "code",
   "execution_count": 20,
   "metadata": {},
   "outputs": [],
   "source": [
    "\n",
    "api_key = 'ZkndW133Kc7JBCDbVV5DV9TSkpkTAm93VaKOSygIDiKi6rOK9tKnOubD4gXY1SSs'\n",
    "api_secret = 'l3QgD9k6dXDcArEhzSnfXCVtpSykCilnPrk3Ol5xjbJuoH2XYfResrjuAeBHoJgZ'\n",
    "\n",
    "client = Client(api_key, api_secret)\n",
    "def convert_to_utc(timestamp_ms):\n",
    "    \"\"\"\n",
    "    Convert the timestamp in milliseconds to a UTC datetime object.\n",
    "    \"\"\"\n",
    "    return datetime.datetime.utcfromtimestamp(timestamp_ms / 1000)"
   ]
  },
  {
   "cell_type": "code",
   "execution_count": 21,
   "metadata": {},
   "outputs": [],
   "source": [
    "def get_last_hour_gold_price(symbol=\"PAXGUSDT\", interval=Client.KLINE_INTERVAL_1HOUR):\n",
    "    \"\"\"\n",
    "    Retrieves the features (open, high, low, close, volume) of the last closed hour for the given symbol.\n",
    "    \"\"\"\n",
    "    try:\n",
    "      \n",
    "        klines = client.get_klines(symbol=symbol, interval=interval, limit=2)\n",
    "\n",
    "        last_closed_kline = klines[-2]\n",
    "        utc_timestamp = datetime.datetime.utcfromtimestamp(last_closed_kline[0] / 1000)  # Convert to UTC datetime\n",
    "        stockholm_timestamp = utc_timestamp + datetime.timedelta(hours=1)  # Adjust to UTC+1\n",
    "\n",
    "        features = {\n",
    "            \"timestamp\": stockholm_timestamp.strftime(\"%Y-%m-%d %H:%M:%S\"),\n",
    "            \"open\": float(last_closed_kline[1]),\n",
    "            \"high\": float(last_closed_kline[2]),\n",
    "            \"low\": float(last_closed_kline[3]),\n",
    "            \"gold_price\": float(last_closed_kline[4]),\n",
    "            \"volume\": float(last_closed_kline[5])\n",
    "        }\n",
    "        \n",
    "        return features\n",
    "    except Exception as e:\n",
    "        print(f\"Error fetching last closed hour features: {e}\")\n",
    "        return None\n"
   ]
  },
  {
   "cell_type": "code",
   "execution_count": 22,
   "metadata": {},
   "outputs": [],
   "source": [
    "def get_last_two_closed_hours_data(symbol, interval='1h', timezone_offset=1):\n",
    "\n",
    "    try:\n",
    "        # Binance API endpoint for historical klines (candlestick data)\n",
    "        url = f\"https://api.binance.com/api/v3/klines\"\n",
    "        params = {\n",
    "            'symbol': symbol,\n",
    "            'interval': interval,\n",
    "            'limit': 3\n",
    "        }\n",
    "        \n",
    "        response = requests.get(url, params=params)\n",
    "        \n",
    "        if response.status_code == 200:\n",
    "            data = response.json()\n",
    "            last_closed_kline = data[-2]\n",
    "            hour_before_klin = data [-3]\n",
    "            \n",
    "            def adjust_timestamp(kline):\n",
    "                utc_timestamp = datetime.datetime.utcfromtimestamp(kline[0] / 1000)\n",
    "                return utc_timestamp + timedelta(hours=1)\n",
    "            \n",
    "            last_hour_data = {\n",
    "                \"timestamp\": adjust_timestamp(last_closed_kline).strftime(\"%Y-%m-%d %H:%M:%S\"),\n",
    "                \"open\": float(last_closed_kline[1]),\n",
    "                \"high\": float(last_closed_kline[2]),\n",
    "                \"low\": float(last_closed_kline[3]),\n",
    "                \"close\": float(last_closed_kline[4]),\n",
    "                \"volume\": float(last_closed_kline[5])\n",
    "            }\n",
    "            hour_before_data = {\n",
    "                \"timestamp\": adjust_timestamp(hour_before_klin).strftime(\"%Y-%m-%d %H:%M:%S\"),\n",
    "                \"open\": float(hour_before_klin[1]),\n",
    "                \"high\": float(hour_before_klin[2]),\n",
    "                \"low\": float(hour_before_klin[3]),\n",
    "                \"close\": float(hour_before_klin[4]),\n",
    "                \"volume\": float(hour_before_klin[5])\n",
    "            }\n",
    "            \n",
    "            return hour_before_data, last_hour_data\n",
    "        else:\n",
    "            print(f\"Error fetching data for {symbol}: {response.status_code} - {response.text}\")\n",
    "            return None\n",
    "    except Exception as e:\n",
    "        print(f\"An error occurred for {symbol}: {e}\")\n",
    "        return None\n"
   ]
  },
  {
   "cell_type": "code",
   "execution_count": 23,
   "metadata": {},
   "outputs": [],
   "source": [
    "def calculate_inflation_rate(symbol, interval='1h', timezone_offset=1):\n",
    "\n",
    "    hour_before, last_data = get_last_two_closed_hours_data(symbol, interval, timezone_offset)\n",
    "    \n",
    "    if not hour_before or not last_data:\n",
    "        print(\"Unable to fetch data for inflation calculation.\")\n",
    "        return None\n",
    "    \n",
    "    # Calculate inflation rate\n",
    "    second_last_close = hour_before[\"close\"]\n",
    "    last_close = last_data[\"close\"]\n",
    "    \n",
    "    if second_last_close > 0:\n",
    "        inflation_rate = ((last_close - second_last_close) / second_last_close) * 100\n",
    "    else:\n",
    "        inflation_rate = None\n",
    "    \n",
    "    # Return the result\n",
    "    return inflation_rate\n",
    "    \n"
   ]
  },
  {
   "cell_type": "code",
   "execution_count": 24,
   "metadata": {},
   "outputs": [
    {
     "name": "stdout",
     "output_type": "stream",
     "text": [
      "EUR/USDT Inflation Rate:\n",
      "0.02908103916246287\n"
     ]
    }
   ],
   "source": [
    "# eur_inflation = calculate_inflation_rate(symbol='EURUSDT')\n",
    "# if eur_inflation:\n",
    "#     print(\"EUR/USDT Inflation Rate:\")\n",
    "#     print(eur_inflation)\n",
    "\n"
   ]
  },
  {
   "cell_type": "code",
   "execution_count": 25,
   "metadata": {},
   "outputs": [
    {
     "name": "stdout",
     "output_type": "stream",
     "text": [
      "2025-01-05 16:54:22,791 INFO: Closing external client and cleaning up certificates.\n",
      "Connection closed.\n",
      "2025-01-05 16:54:22,799 INFO: Initializing external client\n",
      "2025-01-05 16:54:22,800 INFO: Base URL: https://c.app.hopsworks.ai:443\n",
      "2025-01-05 16:54:24,160 INFO: Python Engine initialized.\n",
      "\n",
      "Logged in to project, explore it here https://c.app.hopsworks.ai:443/p/1168537\n",
      "Finished: Reading data from Hopsworks, using Hopsworks Feature Query Service (1.11s) \n"
     ]
    }
   ],
   "source": [
    "os.environ[\"HOPSWORKS_API_KEY\"] = \"WMg6iOTOV75YfUcb.AcuNGWjcMS79s4bz0FqZsRaJtcU8Siqu7Mx084dfkRHauMxK251VTYLYSBAIqBb5\"\n",
    "project = hopsworks.login()\n",
    "fs = project.get_feature_store() \n",
    "data_fg = fs.get_feature_group(\n",
    "    name='data_historic',\n",
    "    version=1,\n",
    ")\n",
    "df = data_fg.read()"
   ]
  },
  {
   "cell_type": "code",
   "execution_count": 26,
   "metadata": {},
   "outputs": [
    {
     "name": "stdout",
     "output_type": "stream",
     "text": [
      "             timestamp  inflation_rate    open    high     low  gold_price  \\\n",
      "0  2025-01-05 16:00:00        0.029081  2649.0  2653.0  2646.0      2653.0   \n",
      "\n",
      "    volume  \n",
      "0  14.7523  \n"
     ]
    }
   ],
   "source": [
    "last_features = get_last_hour_gold_price()\n",
    "hourly_updat = pd.DataFrame([last_features])\n",
    "hourly_updat['inflation_rate'] = calculate_inflation_rate(symbol='EURUSDT')\n",
    "hourly_updat = hourly_updat[df.columns]\n",
    "print(hourly_updat)"
   ]
  },
  {
   "cell_type": "code",
   "execution_count": 27,
   "metadata": {},
   "outputs": [
    {
     "name": "stderr",
     "output_type": "stream",
     "text": [
      "Uploading Dataframe: 100.00% |██████████| Rows 1/1 | Elapsed Time: 00:00 | Remaining Time: 00:00\n"
     ]
    },
    {
     "name": "stdout",
     "output_type": "stream",
     "text": [
      "Launching job: data_historic_1_offline_fg_materialization\n",
      "Job started successfully, you can follow the progress at \n",
      "https://c.app.hopsworks.ai:443/p/1168537/jobs/named/data_historic_1_offline_fg_materialization/executions\n"
     ]
    },
    {
     "data": {
      "text/plain": [
       "(Job('data_historic_1_offline_fg_materialization', 'SPARK'), None)"
      ]
     },
     "execution_count": 27,
     "metadata": {},
     "output_type": "execute_result"
    }
   ],
   "source": [
    "data_fg.insert(hourly_updat)"
   ]
  }
 ],
 "metadata": {
  "kernelspec": {
   "display_name": "project",
   "language": "python",
   "name": "python3"
  },
  "language_info": {
   "codemirror_mode": {
    "name": "ipython",
    "version": 3
   },
   "file_extension": ".py",
   "mimetype": "text/x-python",
   "name": "python",
   "nbconvert_exporter": "python",
   "pygments_lexer": "ipython3",
   "version": "3.12.2"
  }
 },
 "nbformat": 4,
 "nbformat_minor": 2
}
