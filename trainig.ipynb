{
 "cells": [
  {
   "cell_type": "code",
   "execution_count": 16,
   "metadata": {},
   "outputs": [],
   "source": [
    "import pandas as pd\n",
    "from sklearn.model_selection import train_test_split\n",
    "from sklearn.ensemble import RandomForestRegressor\n",
    "from sklearn.metrics import mean_squared_error\n",
    "from binance.client import Client\n",
    "import pandas as pd\n",
    "import requests\n",
    "import pandas as pd\n",
    "import hopsworks\n",
    "import os\n",
    "import warnings\n",
    "warnings.filterwarnings(\"ignore\")"
   ]
  },
  {
   "cell_type": "code",
   "execution_count": 17,
   "metadata": {},
   "outputs": [
    {
     "name": "stdout",
     "output_type": "stream",
     "text": [
      "2024-12-30 14:31:08,420 INFO: Closing external client and cleaning up certificates.\n",
      "Connection closed.\n",
      "2024-12-30 14:31:08,427 INFO: Initializing external client\n",
      "2024-12-30 14:31:08,428 INFO: Base URL: https://c.app.hopsworks.ai:443\n",
      "2024-12-30 14:31:09,808 INFO: Python Engine initialized.\n",
      "\n",
      "Logged in to project, explore it here https://c.app.hopsworks.ai:443/p/1168537\n",
      "Finished: Reading data from Hopsworks, using Hopsworks Feature Query Service (1.09s) \n"
     ]
    }
   ],
   "source": [
    "os.environ[\"HOPSWORKS_API_KEY\"] = \"WMg6iOTOV75YfUcb.AcuNGWjcMS79s4bz0FqZsRaJtcU8Siqu7Mx084dfkRHauMxK251VTYLYSBAIqBb5\"\n",
    "project = hopsworks.login()\n",
    "fs = project.get_feature_store(name='ahmedalk_featurestore')\n",
    "fg = fs.get_feature_group('gold_historic_data', version=1)\n",
    "df = fg.read()"
   ]
  },
  {
   "cell_type": "code",
   "execution_count": 18,
   "metadata": {},
   "outputs": [],
   "source": [
    "data = pd.DataFrame(df)\n",
    "data = data.drop(['timestamp'], axis=1)\n",
    "X = data.drop(['gold_price'], axis=1)\n",
    "y = data['gold_price']\n",
    "X_train, X_test, y_train, y_test = train_test_split(X, y, test_size=0.2, random_state=7)\n"
   ]
  },
  {
   "cell_type": "code",
   "execution_count": 19,
   "metadata": {},
   "outputs": [
    {
     "name": "stdout",
     "output_type": "stream",
     "text": [
      "52.162077823757045\n"
     ]
    }
   ],
   "source": [
    "model = RandomForestRegressor(n_estimators=120, random_state=7)\n",
    "model.fit(X_train, y_train)\n",
    "   \n",
    "y_pred = model.predict(X_test)\n",
    "mse = mean_squared_error(y_test, y_pred)\n",
    "print(mse)\n"
   ]
  }
 ],
 "metadata": {
  "kernelspec": {
   "display_name": "base",
   "language": "python",
   "name": "python3"
  },
  "language_info": {
   "codemirror_mode": {
    "name": "ipython",
    "version": 3
   },
   "file_extension": ".py",
   "mimetype": "text/x-python",
   "name": "python",
   "nbconvert_exporter": "python",
   "pygments_lexer": "ipython3",
   "version": "3.12.2"
  }
 },
 "nbformat": 4,
 "nbformat_minor": 2
}
