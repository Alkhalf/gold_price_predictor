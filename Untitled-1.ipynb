{
 "cells": [
  {
   "cell_type": "code",
   "execution_count": 14,
   "metadata": {},
   "outputs": [],
   "source": [
    "from binance.client import Client\n",
    "import pandas as pd\n",
    "import requests\n",
    "from datetime import datetime, timedelta\n",
    "import datetime\n",
    "import requests\n",
    "import pandas as pd\n",
    "import hopsworks\n",
    "import datetime\n",
    "import os\n",
    "import warnings\n",
    "warnings.filterwarnings(\"ignore\")"
   ]
  },
  {
   "cell_type": "code",
   "execution_count": 15,
   "metadata": {},
   "outputs": [],
   "source": [
    "\n",
    "api_key = 'ZkndW133Kc7JBCDbVV5DV9TSkpkTAm93VaKOSygIDiKi6rOK9tKnOubD4gXY1SSs'\n",
    "api_secret = 'l3QgD9k6dXDcArEhzSnfXCVtpSykCilnPrk3Ol5xjbJuoH2XYfResrjuAeBHoJgZ'\n",
    "\n",
    "client = Client(api_key, api_secret)\n",
    "def convert_to_utc(timestamp_ms):\n",
    "    \"\"\"\n",
    "    Convert the timestamp in milliseconds to a UTC datetime object.\n",
    "    \"\"\"\n",
    "    return datetime.datetime.utcfromtimestamp(timestamp_ms / 1000)\n"
   ]
  },
  {
   "cell_type": "code",
   "execution_count": 17,
   "metadata": {},
   "outputs": [],
   "source": [
    "def get_hourly_gold_prices(symbol=\"PAXGUSDT\", interval=Client.KLINE_INTERVAL_1HOUR, days=2):\n",
    "    \"\"\"\n",
    "    Retrieves hourly gold prices and returns them as a DataFrame.\n",
    "    \"\"\"\n",
    "    end_time = datetime.datetime.now().replace(minute=0, second=0, microsecond=0)  # Align to the last full hour\n",
    "    start_time = end_time - timedelta(days=days)\n",
    "    start_time_ms = int(start_time.timestamp() * 1000)\n",
    "    end_time_ms = int(end_time.timestamp() * 1000)\n",
    "\n",
    "    klines = client.get_historical_klines(symbol, interval, start_time_ms, end_time_ms)\n",
    "\n",
    "    df = pd.DataFrame(klines, columns=[\n",
    "        \"timestamp\", \"open\", \"high\", \"low\", \"close\", \"volume\", \"close_time\",\n",
    "        \"quote_asset_volume\", \"number_of_trades\", \"taker_buy_base_asset_volume\",\n",
    "        \"taker_buy_quote_asset_volume\", \"ignore\"\n",
    "    ])\n",
    "    \n",
    "    # Convert timestamps to UTC datetime\n",
    "    df[\"timestamp\"] = df[\"timestamp\"].apply(convert_to_utc)\n",
    "    \n",
    "    df = df[[\"timestamp\", \"open\", \"high\", \"low\", \"close\", \"volume\"]]\n",
    "    df[[\"open\", \"high\", \"low\", \"close\", \"volume\"]] = df[[\"open\", \"high\", \"low\", \"close\", \"volume\"]].apply(pd.to_numeric)\n",
    "    df.rename(columns={\"close\": \"gold_price\"}, inplace=True)\n",
    "    \n",
    "    return df"
   ]
  },
  {
   "cell_type": "code",
   "execution_count": 18,
   "metadata": {},
   "outputs": [],
   "source": [
    "def get_hourly_bitcoin_prices(symbol=\"BTCUSDT\", interval=Client.KLINE_INTERVAL_1HOUR, days=2):\n",
    "    \"\"\"\n",
    "    Retrieves hourly Bitcoin prices and returns them as a DataFrame.\n",
    "    \"\"\"\n",
    "    end_time = datetime.datetime.now().replace(minute=0, second=0, microsecond=0)  # Align to the last full hour\n",
    "    start_time = end_time - timedelta(days=days)\n",
    "    start_time_ms = int(start_time.timestamp() * 1000)\n",
    "    end_time_ms = int(end_time.timestamp() * 1000)\n",
    "\n",
    "    klines = client.get_historical_klines(symbol, interval, start_time_ms, end_time_ms)\n",
    "\n",
    "    df = pd.DataFrame(klines, columns=[\n",
    "        \"timestamp\", \"open\", \"high\", \"low\", \"close\", \"volume\", \"close_time\",\n",
    "        \"quote_asset_volume\", \"number_of_trades\", \"taker_buy_base_asset_volume\",\n",
    "        \"taker_buy_quote_asset_volume\", \"ignore\"\n",
    "    ])\n",
    "    \n",
    "    # Convert timestamps to UTC datetime\n",
    "    df[\"timestamp\"] = df[\"timestamp\"].apply(convert_to_utc)\n",
    "    \n",
    "    df = df[[\"timestamp\", \"open\", \"high\", \"low\", \"close\", \"volume\"]]\n",
    "    df[[\"open\", \"high\", \"low\", \"close\", \"volume\"]] = df[[\"open\", \"high\", \"low\", \"close\", \"volume\"]].apply(pd.to_numeric)\n",
    "    df.rename(columns={\"close\": \"bitcoin_price\"}, inplace=True)\n",
    "    \n",
    "    return df"
   ]
  },
  {
   "cell_type": "code",
   "execution_count": 19,
   "metadata": {},
   "outputs": [],
   "source": [
    "\n",
    "def convert_to_utc(timestamp_ms):\n",
    "    \"\"\"\n",
    "    Convert the timestamp in milliseconds to a UTC datetime object.\n",
    "    \"\"\"\n",
    "    return datetime.datetime.utcfromtimestamp(timestamp_ms / 1000)\n",
    "\n",
    "def get_hourly_data_from_binance(symbol='EURUSDT', interval='1h', days=1):\n",
    "    \"\"\"\n",
    "    Retrieves historical hourly data for a symbol from Binance, handling pagination in 20-day chunks.\n",
    "    \"\"\"\n",
    "    # Calculate the end time and the start time based on the number of days\n",
    "    end_time = datetime.datetime.now().replace(minute=0, second=0, microsecond=0)\n",
    "    start_time = end_time - timedelta(days=days)\n",
    "    \n",
    "    start_time_ms = int(start_time.timestamp() * 1000)\n",
    "    end_time_ms = int(end_time.timestamp() * 1000)\n",
    "    \n",
    "    max_range = 1000  # Binance allows a max of 1000 points per request\n",
    "\n",
    "    all_hourly_data = []\n",
    "\n",
    "    # Split the data retrieval into 20-day chunks\n",
    "    chunk_size = 20  # We fetch 20 days of data at a time\n",
    "    for i in range(0, days, chunk_size):\n",
    "        chunk_start_time = start_time + timedelta(days=i)\n",
    "        chunk_end_time = min(start_time + timedelta(days=(i + chunk_size)), end_time)\n",
    "        \n",
    "        chunk_start_time_ms = int(chunk_start_time.timestamp() * 1000)\n",
    "        chunk_end_time_ms = int(chunk_end_time.timestamp() * 1000)\n",
    "        \n",
    "        # Binance API endpoint for historical klines (candlestick data)\n",
    "        url = f\"https://api.binance.com/api/v3/klines\"\n",
    "        params = {\n",
    "            'symbol': symbol,\n",
    "            'interval': interval,\n",
    "            'startTime': chunk_start_time_ms,\n",
    "            'endTime': chunk_end_time_ms,\n",
    "        }\n",
    "        \n",
    "        response = requests.get(url, params=params)\n",
    "        \n",
    "        if response.status_code == 200:\n",
    "            data = response.json()\n",
    "            # Convert the timestamps to UTC datetime\n",
    "            hourly_data = [(convert_to_utc(item[0]), float(item[4])) for item in data]  # Add price as the 5th column\n",
    "            all_hourly_data.extend(hourly_data)\n",
    "        else:\n",
    "            print(f\"Error: {response.status_code} - {response.text}\")\n",
    "            break\n",
    "    \n",
    "    # Convert to DataFrame\n",
    "    df = pd.DataFrame(all_hourly_data, columns=[\"timestamp\", \"price\"])\n",
    "    df.set_index(\"timestamp\", inplace=True)\n",
    "    \n",
    "    # Drop any overlapping rows (the first row after each chunk could be a duplicate)\n",
    "    df = df.loc[~df.index.duplicated(keep='first')]  # Remove duplicates\n",
    "    \n",
    "    return df\n",
    "\n",
    "def calculate_hourly_inflation(symbol='EURUSDT', days=1, interval='1h'):\n",
    "    \"\"\"\n",
    "    Calculates the hourly inflation rates based on hourly exchange rates.\n",
    "    \"\"\"\n",
    "    # Fetch hourly data\n",
    "    df = get_hourly_data_from_binance(symbol, interval, days)\n",
    "    \n",
    "    if df is None or df.empty:\n",
    "        return None\n",
    "\n",
    "    # Calculate inflation rates\n",
    "    hourly_inflation = []\n",
    "    for i in range(1, len(df)):\n",
    "        current_time = df.index[i]\n",
    "        current_rate = df.iloc[i][\"price\"]\n",
    "        previous_rate = df.iloc[i - 1][\"price\"]\n",
    "\n",
    "        if previous_rate > 0:\n",
    "            inflation_rate = ((current_rate - previous_rate) / previous_rate) * 100\n",
    "            hourly_inflation.append((current_time, current_rate, inflation_rate))  # Add both price and inflation rate\n",
    "\n",
    "    # Create a DataFrame for inflation rates and prices\n",
    "    inflation_df = pd.DataFrame(hourly_inflation, columns=[\"timestamp\", \"price\", \"inflation_rate\"])\n",
    "    \n",
    "    # Ensure the timestamp is a regular column (not index)\n",
    "    inflation_df.reset_index(drop=True, inplace=True)\n",
    "\n",
    "    return inflation_df\n"
   ]
  },
  {
   "cell_type": "code",
   "execution_count": 20,
   "metadata": {},
   "outputs": [],
   "source": [
    "\n",
    "# Fetch data\n",
    "days=365\n",
    "gold_prices = get_hourly_gold_prices(days=days)\n",
    "gold_prices.to_csv(\"gold_hourly_prices.csv\", index=False)\n",
    "\n",
    "bitcoin_prices = get_hourly_bitcoin_prices(days=days)\n",
    "bitcoin_prices.to_csv(\"bitcoin_hourly_prices.csv\", index=False)\n",
    "\n",
    "inflation_data = calculate_hourly_inflation(symbol='EURUSDT', days=days)\n",
    "inflation_data.to_csv(\"hourly_exchange_rates.csv\", index=False)\n",
    "\n"
   ]
  },
  {
   "cell_type": "code",
   "execution_count": 76,
   "metadata": {},
   "outputs": [
    {
     "data": {
      "text/html": [
       "<div>\n",
       "<style scoped>\n",
       "    .dataframe tbody tr th:only-of-type {\n",
       "        vertical-align: middle;\n",
       "    }\n",
       "\n",
       "    .dataframe tbody tr th {\n",
       "        vertical-align: top;\n",
       "    }\n",
       "\n",
       "    .dataframe thead th {\n",
       "        text-align: right;\n",
       "    }\n",
       "</style>\n",
       "<table border=\"1\" class=\"dataframe\">\n",
       "  <thead>\n",
       "    <tr style=\"text-align: right;\">\n",
       "      <th></th>\n",
       "      <th>timestamp</th>\n",
       "      <th>inflation_rate</th>\n",
       "    </tr>\n",
       "  </thead>\n",
       "  <tbody>\n",
       "    <tr>\n",
       "      <th>0</th>\n",
       "      <td>2024-01-01 16:00:00</td>\n",
       "      <td>-0.036364</td>\n",
       "    </tr>\n",
       "    <tr>\n",
       "      <th>1</th>\n",
       "      <td>2024-01-01 17:00:00</td>\n",
       "      <td>0.009094</td>\n",
       "    </tr>\n",
       "    <tr>\n",
       "      <th>2</th>\n",
       "      <td>2024-01-01 18:00:00</td>\n",
       "      <td>-0.054560</td>\n",
       "    </tr>\n",
       "    <tr>\n",
       "      <th>3</th>\n",
       "      <td>2024-01-01 19:00:00</td>\n",
       "      <td>-0.018197</td>\n",
       "    </tr>\n",
       "    <tr>\n",
       "      <th>4</th>\n",
       "      <td>2024-01-01 20:00:00</td>\n",
       "      <td>0.045500</td>\n",
       "    </tr>\n",
       "  </tbody>\n",
       "</table>\n",
       "</div>"
      ],
      "text/plain": [
       "             timestamp  inflation_rate\n",
       "0  2024-01-01 16:00:00       -0.036364\n",
       "1  2024-01-01 17:00:00        0.009094\n",
       "2  2024-01-01 18:00:00       -0.054560\n",
       "3  2024-01-01 19:00:00       -0.018197\n",
       "4  2024-01-01 20:00:00        0.045500"
      ]
     },
     "execution_count": 76,
     "metadata": {},
     "output_type": "execute_result"
    }
   ],
   "source": [
    "file_path = 'hourly_inflation_rates.csv'\n",
    "df = pd.read_csv(file_path)\n",
    "\n",
    "# Display the first few rows of the DataFrame to understand its structure\n",
    "df.head()"
   ]
  },
  {
   "cell_type": "code",
   "execution_count": 35,
   "metadata": {},
   "outputs": [],
   "source": [
    "inflation_file = 'hourly_inflation_rates.csv'\n",
    "gold_prices_file = 'gold_hourly_prices.csv'\n",
    "bitcoin_file = 'bitcoin_hourly_prices.csv'"
   ]
  },
  {
   "cell_type": "code",
   "execution_count": 36,
   "metadata": {},
   "outputs": [
    {
     "name": "stdout",
     "output_type": "stream",
     "text": [
      "             timestamp  inflation_rate\n",
      "0  2024-01-01 15:00:00       -0.036350\n",
      "1  2024-01-01 16:00:00       -0.036364\n",
      "2  2024-01-01 17:00:00        0.009094\n",
      "3  2024-01-01 18:00:00       -0.054560\n",
      "4  2024-01-01 19:00:00       -0.018197\n"
     ]
    }
   ],
   "source": [
    "df_inflation = pd.read_csv(inflation_file)\n",
    "print(df_inflation.head())"
   ]
  },
  {
   "cell_type": "code",
   "execution_count": 37,
   "metadata": {},
   "outputs": [
    {
     "name": "stdout",
     "output_type": "stream",
     "text": [
      "             timestamp    open    high     low  gold_price   volume\n",
      "0  2024-01-01 14:00:00  2031.0  2033.0  2027.0      2030.0   5.6175\n",
      "1  2024-01-01 15:00:00  2030.0  2033.0  2026.0      2031.0   9.3008\n",
      "2  2024-01-01 16:00:00  2030.0  2034.0  2029.0      2029.0   7.3751\n",
      "3  2024-01-01 17:00:00  2031.0  2034.0  2028.0      2029.0  10.8895\n",
      "4  2024-01-01 18:00:00  2030.0  2034.0  2028.0      2031.0  22.3380\n"
     ]
    }
   ],
   "source": [
    "df_gold_prices = pd.read_csv(gold_prices_file)\n",
    "print(df_gold_prices.head())"
   ]
  },
  {
   "cell_type": "code",
   "execution_count": 38,
   "metadata": {},
   "outputs": [],
   "source": [
    "# df = pd.read_csv(bitcoin_file)\n",
    "# print(df.head())"
   ]
  },
  {
   "cell_type": "code",
   "execution_count": 39,
   "metadata": {},
   "outputs": [
    {
     "name": "stdout",
     "output_type": "stream",
     "text": [
      "             timestamp  inflation_rate    open    high     low  gold_price  \\\n",
      "0  2024-01-01 15:00:00       -0.036350  2030.0  2033.0  2026.0      2031.0   \n",
      "1  2024-01-01 16:00:00       -0.036364  2030.0  2034.0  2029.0      2029.0   \n",
      "2  2024-01-01 17:00:00        0.009094  2031.0  2034.0  2028.0      2029.0   \n",
      "3  2024-01-01 18:00:00       -0.054560  2030.0  2034.0  2028.0      2031.0   \n",
      "4  2024-01-01 19:00:00       -0.018197  2031.0  2038.0  2028.0      2031.0   \n",
      "\n",
      "    volume  \n",
      "0   9.3008  \n",
      "1   7.3751  \n",
      "2  10.8895  \n",
      "3  22.3380  \n",
      "4  31.2848  \n"
     ]
    }
   ],
   "source": [
    "final_df = pd.merge(df_inflation, df_gold_prices, on='timestamp', how='inner')\n",
    "final_df  = pd.DataFrame(final_df)\n",
    "print(final_df.head())"
   ]
  },
  {
   "cell_type": "code",
   "execution_count": 41,
   "metadata": {},
   "outputs": [
    {
     "ename": "ModuleNotFoundError",
     "evalue": "Pyarrow package not found. If you want to use Apache Arrow with Hopsworks you can install the corresponding extras via `pip install \"hopsworks[python]\"`. You can also install pyarrow directly in your environment with `pip install pyarrow`. You will need to restart your kernel if applicable.",
     "output_type": "error",
     "traceback": [
      "\u001b[1;31m---------------------------------------------------------------------------\u001b[0m",
      "\u001b[1;31mModuleNotFoundError\u001b[0m                       Traceback (most recent call last)",
      "Cell \u001b[1;32mIn[41], line 2\u001b[0m\n\u001b[0;32m      1\u001b[0m os\u001b[38;5;241m.\u001b[39menviron[\u001b[38;5;124m\"\u001b[39m\u001b[38;5;124mHOPSWORKS_API_KEY\u001b[39m\u001b[38;5;124m\"\u001b[39m] \u001b[38;5;241m=\u001b[39m \u001b[38;5;124m\"\u001b[39m\u001b[38;5;124mWMg6iOTOV75YfUcb.AcuNGWjcMS79s4bz0FqZsRaJtcU8Siqu7Mx084dfkRHauMxK251VTYLYSBAIqBb5\u001b[39m\u001b[38;5;124m\"\u001b[39m\n\u001b[1;32m----> 2\u001b[0m project \u001b[38;5;241m=\u001b[39m \u001b[43mhopsworks\u001b[49m\u001b[38;5;241;43m.\u001b[39;49m\u001b[43mlogin\u001b[49m\u001b[43m(\u001b[49m\u001b[43m)\u001b[49m\n",
      "File \u001b[1;32mc:\\Users\\ahmed\\anaconda3\\envs\\project\\lib\\site-packages\\hopsworks\\__init__.py:143\u001b[0m, in \u001b[0;36mlogin\u001b[1;34m(host, port, project, api_key_value, api_key_file, hostname_verification, trust_store_path, engine)\u001b[0m\n\u001b[0;32m    140\u001b[0m \u001b[38;5;28;01mglobal\u001b[39;00m _connected_project\n\u001b[0;32m    142\u001b[0m \u001b[38;5;66;03m# If already logged in, should reset connection and follow login procedure as Connection may no longer be valid\u001b[39;00m\n\u001b[1;32m--> 143\u001b[0m \u001b[43mlogout\u001b[49m\u001b[43m(\u001b[49m\u001b[43m)\u001b[49m\n\u001b[0;32m    145\u001b[0m \u001b[38;5;28;01mglobal\u001b[39;00m _hw_connection\n\u001b[0;32m    147\u001b[0m \u001b[38;5;66;03m# If inside hopsworks, just return the current project for now\u001b[39;00m\n",
      "File \u001b[1;32mc:\\Users\\ahmed\\anaconda3\\envs\\project\\lib\\site-packages\\hopsworks\\__init__.py:380\u001b[0m, in \u001b[0;36mlogout\u001b[1;34m()\u001b[0m\n\u001b[0;32m    377\u001b[0m \u001b[38;5;28;01mglobal\u001b[39;00m _secrets_api\n\u001b[0;32m    379\u001b[0m \u001b[38;5;28;01mif\u001b[39;00m _is_connection_active():\n\u001b[1;32m--> 380\u001b[0m     \u001b[43m_hw_connection\u001b[49m\u001b[38;5;241;43m.\u001b[39;49m\u001b[43mclose\u001b[49m\u001b[43m(\u001b[49m\u001b[43m)\u001b[49m\n\u001b[0;32m    382\u001b[0m client\u001b[38;5;241m.\u001b[39mstop()\n\u001b[0;32m    383\u001b[0m _project_api \u001b[38;5;241m=\u001b[39m \u001b[38;5;28;01mNone\u001b[39;00m\n",
      "File \u001b[1;32mc:\\Users\\ahmed\\anaconda3\\envs\\project\\lib\\site-packages\\hopsworks_common\\connection.py:457\u001b[0m, in \u001b[0;36mConnection.close\u001b[1;34m(self)\u001b[0m\n\u001b[0;32m    455\u001b[0m     OpenSearchClientSingleton()\u001b[38;5;241m.\u001b[39mclose()\n\u001b[0;32m    456\u001b[0m client\u001b[38;5;241m.\u001b[39mstop()\n\u001b[1;32m--> 457\u001b[0m \u001b[43mengine\u001b[49m\u001b[38;5;241;43m.\u001b[39;49m\u001b[43mstop\u001b[49m\u001b[43m(\u001b[49m\u001b[43m)\u001b[49m\n\u001b[0;32m    458\u001b[0m \u001b[38;5;28mself\u001b[39m\u001b[38;5;241m.\u001b[39m_feature_store_api \u001b[38;5;241m=\u001b[39m \u001b[38;5;28;01mNone\u001b[39;00m\n\u001b[0;32m    459\u001b[0m \u001b[38;5;28mself\u001b[39m\u001b[38;5;241m.\u001b[39m_connected \u001b[38;5;241m=\u001b[39m \u001b[38;5;28;01mFalse\u001b[39;00m\n",
      "File \u001b[1;32mc:\\Users\\ahmed\\anaconda3\\envs\\project\\lib\\site-packages\\hsfs\\engine\\__init__.py:85\u001b[0m, in \u001b[0;36mstop\u001b[1;34m()\u001b[0m\n\u001b[0;32m     83\u001b[0m \u001b[38;5;28;01mdef\u001b[39;00m \u001b[38;5;21mstop\u001b[39m() \u001b[38;5;241m-\u001b[39m\u001b[38;5;241m>\u001b[39m \u001b[38;5;28;01mNone\u001b[39;00m:\n\u001b[0;32m     84\u001b[0m     \u001b[38;5;28;01mglobal\u001b[39;00m _engine\n\u001b[1;32m---> 85\u001b[0m     \u001b[38;5;28;01mfrom\u001b[39;00m \u001b[38;5;21;01mhsfs\u001b[39;00m\u001b[38;5;21;01m.\u001b[39;00m\u001b[38;5;21;01mcore\u001b[39;00m \u001b[38;5;28;01mimport\u001b[39;00m arrow_flight_client\n\u001b[0;32m     87\u001b[0m     _engine \u001b[38;5;241m=\u001b[39m \u001b[38;5;28;01mNone\u001b[39;00m\n\u001b[0;32m     88\u001b[0m     arrow_flight_client\u001b[38;5;241m.\u001b[39mclose()\n",
      "File \u001b[1;32mc:\\Users\\ahmed\\anaconda3\\envs\\project\\lib\\site-packages\\hsfs\\core\\arrow_flight_client.py:30\u001b[0m\n\u001b[0;32m     26\u001b[0m \u001b[38;5;28;01mfrom\u001b[39;00m \u001b[38;5;21;01mhopsworks_common\u001b[39;00m\u001b[38;5;21;01m.\u001b[39;00m\u001b[38;5;21;01mcore\u001b[39;00m\u001b[38;5;21;01m.\u001b[39;00m\u001b[38;5;21;01mconstants\u001b[39;00m \u001b[38;5;28;01mimport\u001b[39;00m HAS_PYARROW, pyarrow_not_installed_message\n\u001b[0;32m     29\u001b[0m \u001b[38;5;28;01mif\u001b[39;00m \u001b[38;5;129;01mnot\u001b[39;00m HAS_PYARROW:\n\u001b[1;32m---> 30\u001b[0m     \u001b[38;5;28;01mraise\u001b[39;00m \u001b[38;5;167;01mModuleNotFoundError\u001b[39;00m(pyarrow_not_installed_message)\n\u001b[0;32m     32\u001b[0m \u001b[38;5;28;01mimport\u001b[39;00m \u001b[38;5;21;01mpyarrow\u001b[39;00m\n\u001b[0;32m     33\u001b[0m \u001b[38;5;28;01mimport\u001b[39;00m \u001b[38;5;21;01mpyarrow\u001b[39;00m\u001b[38;5;21;01m.\u001b[39;00m\u001b[38;5;21;01m_flight\u001b[39;00m\n",
      "\u001b[1;31mModuleNotFoundError\u001b[0m: Pyarrow package not found. If you want to use Apache Arrow with Hopsworks you can install the corresponding extras via `pip install \"hopsworks[python]\"`. You can also install pyarrow directly in your environment with `pip install pyarrow`. You will need to restart your kernel if applicable."
     ]
    }
   ],
   "source": [
    "os.environ[\"HOPSWORKS_API_KEY\"] = \"WMg6iOTOV75YfUcb.AcuNGWjcMS79s4bz0FqZsRaJtcU8Siqu7Mx084dfkRHauMxK251VTYLYSBAIqBb5\"\n",
    "project = hopsworks.login()\n"
   ]
  },
  {
   "cell_type": "code",
   "execution_count": 30,
   "metadata": {},
   "outputs": [],
   "source": [
    "fs = project.get_feature_store() "
   ]
  },
  {
   "cell_type": "code",
   "execution_count": 31,
   "metadata": {},
   "outputs": [],
   "source": [
    "gold_data = fs.get_or_create_feature_group(\n",
    "    name='gold_historic_data',\n",
    "    description='historic data',\n",
    "    version=1,\n",
    "    primary_key=['timestamp'],\n",
    ")"
   ]
  },
  {
   "cell_type": "code",
   "execution_count": 32,
   "metadata": {},
   "outputs": [
    {
     "name": "stderr",
     "output_type": "stream",
     "text": [
      "Uploading Dataframe: 100.00% |██████████| Rows 8759/8759 | Elapsed Time: 00:01 | Remaining Time: 00:00\n"
     ]
    },
    {
     "name": "stdout",
     "output_type": "stream",
     "text": [
      "Launching job: gold_historic_data_1_offline_fg_materialization\n",
      "Job started successfully, you can follow the progress at \n",
      "https://c.app.hopsworks.ai:443/p/1168537/jobs/named/gold_historic_data_1_offline_fg_materialization/executions\n"
     ]
    },
    {
     "data": {
      "text/plain": [
       "(Job('gold_historic_data_1_offline_fg_materialization', 'SPARK'), None)"
      ]
     },
     "execution_count": 32,
     "metadata": {},
     "output_type": "execute_result"
    }
   ],
   "source": [
    "gold_data.insert(final_df)"
   ]
  },
  {
   "cell_type": "code",
   "execution_count": 33,
   "metadata": {},
   "outputs": [
    {
     "name": "stdout",
     "output_type": "stream",
     "text": [
      "<hsfs.feature_group.FeatureGroup object at 0x17294b1d0>\n"
     ]
    }
   ],
   "source": [
    "fs = project.get_feature_store(name='ahmedalk_featurestore')\n",
    "fg = fs.get_feature_group('gold_historic_data', version=1)\n"
   ]
  }
 ],
 "metadata": {
  "kernelspec": {
   "display_name": "project",
   "language": "python",
   "name": "python3"
  },
  "language_info": {
   "codemirror_mode": {
    "name": "ipython",
    "version": 3
   },
   "file_extension": ".py",
   "mimetype": "text/x-python",
   "name": "python",
   "nbconvert_exporter": "python",
   "pygments_lexer": "ipython3",
   "version": "3.10.16"
  }
 },
 "nbformat": 4,
 "nbformat_minor": 2
}
