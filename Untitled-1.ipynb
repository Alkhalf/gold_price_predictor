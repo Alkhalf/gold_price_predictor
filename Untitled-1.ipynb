{
 "cells": [
  {
   "cell_type": "code",
   "execution_count": 17,
   "metadata": {},
   "outputs": [],
   "source": [
    "from binance.client import Client\n",
    "import pandas as pd\n",
    "import requests\n",
    "from datetime import datetime, timedelta\n",
    "import datetime\n",
    "import requests\n",
    "import pandas as pd\n",
    "import hopsworks\n",
    "import datetime\n",
    "import os\n",
    "import warnings\n",
    "warnings.filterwarnings(\"ignore\")"
   ]
  },
  {
   "cell_type": "code",
   "execution_count": 18,
   "metadata": {},
   "outputs": [],
   "source": [
    "\n",
    "api_key = 'ZkndW133Kc7JBCDbVV5DV9TSkpkTAm93VaKOSygIDiKi6rOK9tKnOubD4gXY1SSs'\n",
    "api_secret = 'l3QgD9k6dXDcArEhzSnfXCVtpSykCilnPrk3Ol5xjbJuoH2XYfResrjuAeBHoJgZ'\n",
    "\n",
    "client = Client(api_key, api_secret)\n",
    "\n"
   ]
  },
  {
   "cell_type": "code",
   "execution_count": 19,
   "metadata": {},
   "outputs": [],
   "source": [
    "def get_hourly_gold_prices(symbol=\"PAXGUSDT\", interval=Client.KLINE_INTERVAL_1HOUR, days=2):\n",
    "    end_time = datetime.now()\n",
    "    start_time = end_time - timedelta(days=days)\n",
    "    start_time_ms = int(start_time.timestamp() * 1000)\n",
    "    end_time_ms = int(end_time.timestamp() * 1000)\n",
    "\n",
    "    klines = client.get_historical_klines(symbol, interval, start_time_ms, end_time_ms)\n",
    "\n",
    "    df = pd.DataFrame(klines, columns=[\n",
    "        \"timestamp\", \"open\", \"high\", \"low\", \"close\", \"volume\", \"close_time\",\n",
    "        \"quote_asset_volume\", \"number_of_trades\", \"taker_buy_base_asset_volume\",\n",
    "        \"taker_buy_quote_asset_volume\", \"ignore\"\n",
    "    ])\n",
    "    \n",
    "    df[\"timestamp\"] = pd.to_datetime(df[\"timestamp\"], unit='ms')\n",
    "    df = df[[\"timestamp\", \"open\", \"high\", \"low\", \"close\", \"volume\"]]\n",
    "    df[[\"open\", \"high\", \"low\", \"close\", \"volume\"]] = df[[\"open\", \"high\", \"low\", \"close\", \"volume\"]].apply(pd.to_numeric)\n",
    "    df.rename(columns={\"close\": \"gold_price\"}, inplace=True)\n",
    "    \n",
    "    return df"
   ]
  },
  {
   "cell_type": "code",
   "execution_count": 20,
   "metadata": {},
   "outputs": [],
   "source": [
    "def get_hourly_bitcoin_prices(symbol=\"BTCUSDT\", interval=Client.KLINE_INTERVAL_1HOUR, days=2):\n",
    "    end_time = datetime.now()\n",
    "    start_time = end_time - timedelta(days=days)\n",
    "    start_time_ms = int(start_time.timestamp() * 1000)\n",
    "    end_time_ms = int(end_time.timestamp() * 1000)\n",
    "\n",
    "    klines = client.get_historical_klines(symbol, interval, start_time_ms, end_time_ms)\n",
    "\n",
    "    df = pd.DataFrame(klines, columns=[\n",
    "        \"timestamp\", \"open\", \"high\", \"low\", \"close\", \"volume\", \"close_time\",\n",
    "        \"quote_asset_volume\", \"number_of_trades\", \"taker_buy_base_asset_volume\",\n",
    "        \"taker_buy_quote_asset_volume\", \"ignore\"\n",
    "    ])\n",
    "    \n",
    "    df[\"timestamp\"] = pd.to_datetime(df[\"timestamp\"], unit='ms')\n",
    "    df = df[[\"timestamp\", \"open\", \"high\", \"low\", \"close\", \"volume\"]]\n",
    "    df[[\"open\", \"high\", \"low\", \"close\", \"volume\"]] = df[[\"open\", \"high\", \"low\", \"close\", \"volume\"]].apply(pd.to_numeric)\n",
    "    df.rename(columns={\"close\": \"bitcoin_price\"}, inplace=True)\n",
    "    \n",
    "    return df"
   ]
  },
  {
   "cell_type": "code",
   "execution_count": 21,
   "metadata": {},
   "outputs": [],
   "source": [
    "def get_exchange_rate_from_binance(symbol='EURUSDT'):\n",
    "    url = f\"https://api.binance.com/api/v3/ticker/price?symbol={symbol}\"\n",
    "    response = requests.get(url)\n",
    "    if response.status_code == 200:\n",
    "        data = response.json()\n",
    "        return float(data['price'])\n",
    "    else:\n",
    "        print(f\"Error: {response.status_code} - {response.text}\")\n",
    "        return None"
   ]
  },
  {
   "cell_type": "code",
   "execution_count": 22,
   "metadata": {},
   "outputs": [],
   "source": [
    "def calculate_hourly_inflation(symbol='EURUSDT', days=2):\n",
    "    \"\"\"\n",
    "    Calculates the hourly inflation rates based on consistent hourly timestamps.\n",
    "    \"\"\"\n",
    "    end_time = datetime.now().replace(minute=0, second=0, microsecond=0)  # Align to the last full hour\n",
    "    start_time = end_time - timedelta(days=days)\n",
    "\n",
    "    timestamps = [start_time + timedelta(hours=i) for i in range((end_time - start_time).seconds // 3600 + (days * 24))]\n",
    "\n",
    "    hourly_rates = []\n",
    "    for ts in timestamps:\n",
    "        rate = get_exchange_rate_from_binance(symbol)\n",
    "        if rate is not None:\n",
    "            hourly_rates.append((ts, rate))\n",
    "\n",
    "    # Calculate inflation rates\n",
    "    hourly_inflation = []\n",
    "    for i in range(1, len(hourly_rates)):\n",
    "        current_time, current_rate = hourly_rates[i]\n",
    "        _, previous_rate = hourly_rates[i - 1]\n",
    "\n",
    "        if previous_rate > 0:\n",
    "            inflation_rate = ((current_rate - previous_rate) / previous_rate) * 100\n",
    "            hourly_inflation.append((current_time, inflation_rate))\n",
    "\n",
    "    df = pd.DataFrame(hourly_inflation, columns=[\"timestamp\", \"inflation_rate\"])\n",
    "    return df"
   ]
  },
  {
   "cell_type": "code",
   "execution_count": 23,
   "metadata": {},
   "outputs": [],
   "source": [
    "\n",
    "# Fetch data\n",
    "# days=365\n",
    "# gold_prices = get_hourly_gold_prices(days=days)\n",
    "# gold_prices.to_csv(\"gold_hourly_prices.csv\", index=False)\n",
    "\n",
    "# bitcoin_prices = get_hourly_bitcoin_prices(days=days)\n",
    "# bitcoin_prices.to_csv(\"bitcoin_hourly_prices.csv\", index=False)\n",
    "\n",
    "# inflation_data = calculate_hourly_inflation(symbol=\"EURUSDT\", days=days)\n",
    "# inflation_data.to_csv(\"hourly_inflation_rates.csv\", index=False)"
   ]
  },
  {
   "cell_type": "code",
   "execution_count": 24,
   "metadata": {},
   "outputs": [],
   "source": [
    "inflation_file = 'hourly_inflation_rates.csv'\n",
    "gold_prices_file = 'gold_hourly_prices.csv'\n",
    "bitcoin_file = 'bitcoin_hourly_prices.csv'"
   ]
  },
  {
   "cell_type": "code",
   "execution_count": 25,
   "metadata": {},
   "outputs": [
    {
     "name": "stdout",
     "output_type": "stream",
     "text": [
      "             timestamp  inflation_rate\n",
      "0  2023-12-17 15:00:00             0.0\n",
      "1  2023-12-17 16:00:00             0.0\n",
      "2  2023-12-17 17:00:00             0.0\n",
      "3  2023-12-17 18:00:00             0.0\n",
      "4  2023-12-17 19:00:00             0.0\n"
     ]
    }
   ],
   "source": [
    "df_inflation = pd.read_csv(inflation_file)\n",
    "print(df_inflation.head())"
   ]
  },
  {
   "cell_type": "code",
   "execution_count": 26,
   "metadata": {},
   "outputs": [
    {
     "name": "stdout",
     "output_type": "stream",
     "text": [
      "             timestamp    open    high     low  gold_price   volume\n",
      "0  2023-12-17 14:00:00  1994.0  1995.0  1992.0      1995.0  22.7100\n",
      "1  2023-12-17 15:00:00  1994.0  1999.0  1993.0      1997.0  13.7642\n",
      "2  2023-12-17 16:00:00  1998.0  2002.0  1996.0      2001.0   9.6742\n",
      "3  2023-12-17 17:00:00  2001.0  2002.0  1997.0      1998.0   8.8124\n",
      "4  2023-12-17 18:00:00  1998.0  1998.0  1992.0      1996.0  18.4538\n"
     ]
    }
   ],
   "source": [
    "df_gold_prices = pd.read_csv(gold_prices_file)\n",
    "print(df_gold_prices.head())"
   ]
  },
  {
   "cell_type": "code",
   "execution_count": 27,
   "metadata": {},
   "outputs": [],
   "source": [
    "# df = pd.read_csv(bitcoin_file)\n",
    "# print(df.head())"
   ]
  },
  {
   "cell_type": "code",
   "execution_count": 28,
   "metadata": {},
   "outputs": [
    {
     "name": "stdout",
     "output_type": "stream",
     "text": [
      "             timestamp  inflation_rate    open    high     low  gold_price  \\\n",
      "0  2023-12-17 15:00:00             0.0  1994.0  1999.0  1993.0      1997.0   \n",
      "1  2023-12-17 16:00:00             0.0  1998.0  2002.0  1996.0      2001.0   \n",
      "2  2023-12-17 17:00:00             0.0  2001.0  2002.0  1997.0      1998.0   \n",
      "3  2023-12-17 18:00:00             0.0  1998.0  1998.0  1992.0      1996.0   \n",
      "4  2023-12-17 19:00:00             0.0  1996.0  1998.0  1995.0      1997.0   \n",
      "\n",
      "    volume  \n",
      "0  13.7642  \n",
      "1   9.6742  \n",
      "2   8.8124  \n",
      "3  18.4538  \n",
      "4  14.7631  \n"
     ]
    }
   ],
   "source": [
    "final_df = pd.merge(df_inflation, df_gold_prices, on='timestamp', how='inner')\n",
    "final_df  = pd.DataFrame(final_df)\n",
    "print(final_df.head())"
   ]
  },
  {
   "cell_type": "code",
   "execution_count": 29,
   "metadata": {},
   "outputs": [
    {
     "name": "stdout",
     "output_type": "stream",
     "text": [
      "2024-12-29 21:57:26,810 INFO: Closing external client and cleaning up certificates.\n",
      "Connection closed.\n",
      "2024-12-29 21:57:26,814 INFO: Initializing external client\n",
      "2024-12-29 21:57:26,814 INFO: Base URL: https://c.app.hopsworks.ai:443\n",
      "2024-12-29 21:57:28,111 INFO: Python Engine initialized.\n",
      "\n",
      "Logged in to project, explore it here https://c.app.hopsworks.ai:443/p/1168537\n"
     ]
    }
   ],
   "source": [
    "os.environ[\"HOPSWORKS_API_KEY\"] = \"WMg6iOTOV75YfUcb.AcuNGWjcMS79s4bz0FqZsRaJtcU8Siqu7Mx084dfkRHauMxK251VTYLYSBAIqBb5\"\n",
    "project = hopsworks.login()\n"
   ]
  },
  {
   "cell_type": "code",
   "execution_count": 30,
   "metadata": {},
   "outputs": [],
   "source": [
    "fs = project.get_feature_store() "
   ]
  },
  {
   "cell_type": "code",
   "execution_count": 31,
   "metadata": {},
   "outputs": [],
   "source": [
    "gold_data = fs.get_or_create_feature_group(\n",
    "    name='gold_historic_data',\n",
    "    description='historic data',\n",
    "    version=1,\n",
    "    primary_key=['timestamp'],\n",
    ")"
   ]
  },
  {
   "cell_type": "code",
   "execution_count": 32,
   "metadata": {},
   "outputs": [
    {
     "name": "stderr",
     "output_type": "stream",
     "text": [
      "Uploading Dataframe: 100.00% |██████████| Rows 8759/8759 | Elapsed Time: 00:01 | Remaining Time: 00:00\n"
     ]
    },
    {
     "name": "stdout",
     "output_type": "stream",
     "text": [
      "Launching job: gold_historic_data_1_offline_fg_materialization\n",
      "Job started successfully, you can follow the progress at \n",
      "https://c.app.hopsworks.ai:443/p/1168537/jobs/named/gold_historic_data_1_offline_fg_materialization/executions\n"
     ]
    },
    {
     "data": {
      "text/plain": [
       "(Job('gold_historic_data_1_offline_fg_materialization', 'SPARK'), None)"
      ]
     },
     "execution_count": 32,
     "metadata": {},
     "output_type": "execute_result"
    }
   ],
   "source": [
    "gold_data.insert(final_df)"
   ]
  },
  {
   "cell_type": "code",
   "execution_count": 33,
   "metadata": {},
   "outputs": [
    {
     "name": "stdout",
     "output_type": "stream",
     "text": [
      "<hsfs.feature_group.FeatureGroup object at 0x17294b1d0>\n"
     ]
    }
   ],
   "source": [
    "fs = project.get_feature_store(name='ahmedalk_featurestore')\n",
    "fg = fs.get_feature_group('gold_historic_data', version=1)\n"
   ]
  }
 ],
 "metadata": {
  "kernelspec": {
   "display_name": ".venv",
   "language": "python",
   "name": "python3"
  },
  "language_info": {
   "codemirror_mode": {
    "name": "ipython",
    "version": 3
   },
   "file_extension": ".py",
   "mimetype": "text/x-python",
   "name": "python",
   "nbconvert_exporter": "python",
   "pygments_lexer": "ipython3",
   "version": "3.12.2"
  }
 },
 "nbformat": 4,
 "nbformat_minor": 2
}
