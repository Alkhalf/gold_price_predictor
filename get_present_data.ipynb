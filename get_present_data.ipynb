{
 "cells": [
  {
   "cell_type": "code",
   "execution_count": 85,
   "metadata": {},
   "outputs": [],
   "source": [
    "from binance.client import Client\n",
    "import pandas as pd\n",
    "import requests\n",
    "from datetime import datetime, timedelta\n",
    "import datetime\n",
    "import requests\n",
    "import pandas as pd\n",
    "import hopsworks\n",
    "import datetime\n",
    "import os\n",
    "import warnings\n",
    "warnings.filterwarnings(\"ignore\")"
   ]
  },
  {
   "cell_type": "code",
   "execution_count": 86,
   "metadata": {},
   "outputs": [],
   "source": [
    "\n",
    "api_key = 'ZkndW133Kc7JBCDbVV5DV9TSkpkTAm93VaKOSygIDiKi6rOK9tKnOubD4gXY1SSs'\n",
    "api_secret = 'l3QgD9k6dXDcArEhzSnfXCVtpSykCilnPrk3Ol5xjbJuoH2XYfResrjuAeBHoJgZ'\n",
    "\n",
    "client = Client(api_key, api_secret)\n",
    "def convert_to_utc(timestamp_ms):\n",
    "    \"\"\"\n",
    "    Convert the timestamp in milliseconds to a UTC datetime object.\n",
    "    \"\"\"\n",
    "    return datetime.datetime.utcfromtimestamp(timestamp_ms / 1000)"
   ]
  },
  {
   "cell_type": "code",
   "execution_count": 87,
   "metadata": {},
   "outputs": [],
   "source": [
    "def get_last_hour_gold_price(symbol=\"PAXGUSDT\", interval=Client.KLINE_INTERVAL_1HOUR):\n",
    "    \"\"\"\n",
    "    Retrieves the features (open, high, low, close, volume) of the last closed hour for the given symbol.\n",
    "    \"\"\"\n",
    "    try:\n",
    "      \n",
    "        klines = client.get_klines(symbol=symbol, interval=interval, limit=2)\n",
    "\n",
    "        last_closed_kline = klines[-2]\n",
    "        utc_timestamp = datetime.datetime.utcfromtimestamp(last_closed_kline[0] / 1000)  # Convert to UTC datetime\n",
    "        stockholm_timestamp = utc_timestamp + datetime.timedelta(hours=2)  # Adjust to UTC+1\n",
    "\n",
    "        features = {\n",
    "            \"timestamp\": stockholm_timestamp.strftime(\"%Y-%m-%d %H:%M:%S\"),\n",
    "            \"open\": float(last_closed_kline[1]),\n",
    "            \"high\": float(last_closed_kline[2]),\n",
    "            \"low\": float(last_closed_kline[3]),\n",
    "            \"gold_price\": float(last_closed_kline[4]),\n",
    "            \"volume\": float(last_closed_kline[5])\n",
    "        }\n",
    "        \n",
    "        return features\n",
    "    except Exception as e:\n",
    "        print(f\"Error fetching last closed hour features: {e}\")\n",
    "        return None\n"
   ]
  },
  {
   "cell_type": "code",
   "execution_count": 88,
   "metadata": {},
   "outputs": [
    {
     "name": "stdout",
     "output_type": "stream",
     "text": [
      "Last Closed Hour Features:\n",
      "{'timestamp': '2025-01-05 13:00:00', 'open': 2650.0, 'high': 2650.0, 'low': 2644.0, 'gold_price': 2646.0, 'volume': 27.2359}\n"
     ]
    }
   ],
   "source": [
    "last_features = get_last_hour_gold_price()\n",
    "print(\"Last Closed Hour Features:\")\n",
    "print(last_features)\n"
   ]
  },
  {
   "cell_type": "code",
   "execution_count": 89,
   "metadata": {},
   "outputs": [],
   "source": [
    "def get_last_two_closed_hours_data(symbol, interval='1h', timezone_offset=1):\n",
    "\n",
    "    try:\n",
    "        # Binance API endpoint for historical klines (candlestick data)\n",
    "        url = f\"https://api.binance.com/api/v3/klines\"\n",
    "        params = {\n",
    "            'symbol': symbol,\n",
    "            'interval': interval,\n",
    "            'limit': 3\n",
    "        }\n",
    "        \n",
    "        response = requests.get(url, params=params)\n",
    "        \n",
    "        if response.status_code == 200:\n",
    "            data = response.json()\n",
    "            last_closed_kline = data[-2]\n",
    "            hour_before_klin = data [-3]\n",
    "            \n",
    "            def adjust_timestamp(kline):\n",
    "                utc_timestamp = datetime.datetime.utcfromtimestamp(kline[0] / 1000)\n",
    "                return utc_timestamp + timedelta(hours=2)\n",
    "            \n",
    "            last_hour_data = {\n",
    "                \"timestamp\": adjust_timestamp(last_closed_kline).strftime(\"%Y-%m-%d %H:%M:%S\"),\n",
    "                \"open\": float(last_closed_kline[1]),\n",
    "                \"high\": float(last_closed_kline[2]),\n",
    "                \"low\": float(last_closed_kline[3]),\n",
    "                \"close\": float(last_closed_kline[4]),\n",
    "                \"volume\": float(last_closed_kline[5])\n",
    "            }\n",
    "            hour_before_data = {\n",
    "                \"timestamp\": adjust_timestamp(hour_before_klin).strftime(\"%Y-%m-%d %H:%M:%S\"),\n",
    "                \"open\": float(hour_before_klin[1]),\n",
    "                \"high\": float(hour_before_klin[2]),\n",
    "                \"low\": float(hour_before_klin[3]),\n",
    "                \"close\": float(hour_before_klin[4]),\n",
    "                \"volume\": float(hour_before_klin[5])\n",
    "            }\n",
    "            \n",
    "            return hour_before_data, last_hour_data\n",
    "        else:\n",
    "            print(f\"Error fetching data for {symbol}: {response.status_code} - {response.text}\")\n",
    "            return None\n",
    "    except Exception as e:\n",
    "        print(f\"An error occurred for {symbol}: {e}\")\n",
    "        return None\n"
   ]
  },
  {
   "cell_type": "code",
   "execution_count": 90,
   "metadata": {},
   "outputs": [],
   "source": [
    "def calculate_inflation_rate(symbol, interval='1h', timezone_offset=1):\n",
    "\n",
    "    hour_before, last_data = get_last_two_closed_hours_data(symbol, interval, timezone_offset)\n",
    "    \n",
    "    if not hour_before or not last_data:\n",
    "        print(\"Unable to fetch data for inflation calculation.\")\n",
    "        return None\n",
    "    \n",
    "    # Calculate inflation rate\n",
    "    second_last_close = hour_before[\"close\"]\n",
    "    last_close = last_data[\"close\"]\n",
    "    \n",
    "    if second_last_close > 0:\n",
    "        inflation_rate = ((last_close - second_last_close) / second_last_close) * 100\n",
    "    else:\n",
    "        inflation_rate = None\n",
    "    \n",
    "    # Return the result\n",
    "    return inflation_rate\n",
    "    \n"
   ]
  },
  {
   "cell_type": "code",
   "execution_count": 91,
   "metadata": {},
   "outputs": [
    {
     "name": "stdout",
     "output_type": "stream",
     "text": [
      "EUR/USDT Inflation Rate:\n",
      "-0.01937796725123321\n"
     ]
    }
   ],
   "source": [
    "eur_inflation = calculate_inflation_rate(symbol='EURUSDT')\n",
    "if eur_inflation:\n",
    "    print(\"EUR/USDT Inflation Rate:\")\n",
    "    print(eur_inflation)"
   ]
  }
 ],
 "metadata": {
  "kernelspec": {
   "display_name": "project",
   "language": "python",
   "name": "python3"
  },
  "language_info": {
   "codemirror_mode": {
    "name": "ipython",
    "version": 3
   },
   "file_extension": ".py",
   "mimetype": "text/x-python",
   "name": "python",
   "nbconvert_exporter": "python",
   "pygments_lexer": "ipython3",
   "version": "3.10.16"
  }
 },
 "nbformat": 4,
 "nbformat_minor": 2
}
